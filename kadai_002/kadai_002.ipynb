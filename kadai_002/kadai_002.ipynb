{
  "nbformat": 4,
  "nbformat_minor": 0,
  "metadata": {
    "colab": {
      "provenance": []
    },
    "kernelspec": {
      "name": "python3",
      "display_name": "Python 3"
    },
    "language_info": {
      "name": "python"
    }
  },
  "cells": [
    {
      "cell_type": "code",
      "execution_count": 25,
      "metadata": {
        "id": "dg-avSO2fWKA"
      },
      "outputs": [],
      "source": [
        "import pandas as pd\n",
        "\n",
        "# データフレームの作成\n",
        "df = pd.DataFrame({\n",
        "    '日付': ['2023-05-17', '2023-05-18', '2023-05-19', '2023-05-20', '2023-05-21'],\n",
        "    '社員名': ['山田', '佐藤', '鈴木', '田中', '高橋'],\n",
        "    '売上': [100, 200, 150, 300, 250],\n",
        "    '部門': ['メーカー', '代理店', 'メーカー', '商社', '代理店'],\n",
        "})\n",
        "\n",
        "# 平均売上に50を加えた値を計算\n",
        "average_sales_plus_50 = df['売上'].mean() + 50\n",
        "\n",
        "# 新しい列 '業績ランク' を作成\n",
        "df['業績ランク'] = pd.cut(df['売上'],\n",
        "                         bins=[-float('inf'), df['売上'].mean(), average_sales_plus_50, float('inf')],\n",
        "                         labels=['C', 'B', 'A'],\n",
        "                         right=False)\n",
        "\n",
        "# Excelファイルを作成\n",
        "writer = pd.ExcelWriter('業務.xlsx')\n",
        "\n",
        "# DataFrameオブジェクトをExcelファイルに書き込む\n",
        "df.to_excel(writer, sheet_name='Sheet1', index=False)\n",
        "\n",
        "# Excelファイルを閉じる\n",
        "writer.close()\n",
        "\n",
        "\n",
        "\n"
      ]
    }
  ]
}