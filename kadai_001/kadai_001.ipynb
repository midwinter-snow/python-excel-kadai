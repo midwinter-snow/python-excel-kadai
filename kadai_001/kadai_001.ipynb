{
  "nbformat": 4,
  "nbformat_minor": 0,
  "metadata": {
    "colab": {
      "provenance": []
    },
    "kernelspec": {
      "name": "python3",
      "display_name": "Python 3"
    },
    "language_info": {
      "name": "python"
    }
  },
  "cells": [
    {
      "cell_type": "code",
      "execution_count": 9,
      "metadata": {
        "id": "NZtcYdYb5eWL"
      },
      "outputs": [],
      "source": [
        "from openpyxl import Workbook\n",
        "from datetime import datetime\n",
        "\n",
        "# Get the current date in the format YYYYMMDD\n",
        "current_date = datetime.now().strftime(\"%Y%m%d\")\n",
        "\n",
        "# Create a new workbook\n",
        "workbook = Workbook()\n",
        "ws = workbook.active\n",
        "\n",
        "# Header\n",
        "ws['B2'] = '請求書'\n",
        "header_data = {\n",
        "    'B4': '株式会社ABC',\n",
        "    'F4': 'No.',\n",
        "    'G4': '0001',\n",
        "    'B5': '〒101-0022 東京都千代田区神田練塀町300',\n",
        "    'F5': '日付',\n",
        "    'G5': current_date,\n",
        "    'B6': 'TEL:03-1234-5678 FAX:03-1234-5678',\n",
        "    'B7': '担当者名:鈴木一郎 様'\n",
        "}\n",
        "for key, value in header_data.items():\n",
        "    ws[key] = value\n",
        "\n",
        "# Itemized list\n",
        "item_list = [\n",
        "    ('B10', '商品名'), ('C10', '数量'), ('D10', '単価'), ('E10', '金額'),\n",
        "    ('B11', '商品Ａ'), ('C11', 2, 'D11', 10000, 'E11', 20000),\n",
        "    ('B12', '商品Ｂ'), ('C12', 1, 'D12', 15000, 'E12', 15000),\n",
        "    ('E13', 35000)\n",
        "]\n",
        "for data in item_list:\n",
        "    for i in range(0, len(data), 2):\n",
        "        ws[data[i]] = data[i + 1]\n",
        "\n",
        "# Summary\n",
        "summary_data = {\n",
        "    'B15': '小計', 'E15': 35000,\n",
        "    'B16': '消費税', 'E16': 3500,\n",
        "    'B17': '合計', 'E17': 38500\n",
        "}\n",
        "for key, value in summary_data.items():\n",
        "    ws[key] = value\n",
        "\n",
        "# Save the workbook with the current date in the filename\n",
        "file_name = f\"請求書_{current_date}.xlsx\"\n",
        "workbook.save(file_name)"
      ]
    }
  ]
}