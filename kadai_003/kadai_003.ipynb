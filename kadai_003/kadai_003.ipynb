{
  "nbformat": 4,
  "nbformat_minor": 0,
  "metadata": {
    "colab": {
      "provenance": []
    },
    "kernelspec": {
      "name": "python3",
      "display_name": "Python 3"
    },
    "language_info": {
      "name": "python"
    }
  },
  "cells": [
    {
      "cell_type": "code",
      "execution_count": 6,
      "metadata": {
        "id": "oIFuRd7SE_3i"
      },
      "outputs": [],
      "source": [
        "import pandas as pd\n",
        "from openpyxl import Workbook\n",
        "from openpyxl.styles import PatternFill\n",
        "from openpyxl.utils.dataframe import dataframe_to_rows\n",
        "\n",
        "\n",
        "# 2022年度のデータを読み取り\n",
        "df_2022 = pd.read_excel('2022_年間売上表.xlsx', sheet_name='Sheet1')\n",
        "\n",
        "# 2023年度のデータを読み取り\n",
        "df_2023 = pd.read_excel('2023_年間売上表.xlsx', sheet_name='Sheet1')\n",
        "\n",
        "# データフレームを連結\n",
        "df_concatenated = pd.concat([df_2022, df_2023])\n",
        "\n",
        "# 商品と売上年ごとにグループ化し、合計金額に集約\n",
        "df_grouped = df_concatenated.groupby(['商品', '売上年']).agg({'金額（千円）': 'sum'}).reset_index()\n",
        "\n",
        "# 新しいExcelファイルを作成\n",
        "excel_file = '売上集計表.xlsx'\n",
        "\n",
        "# Excelファイルを作成\n",
        "workbook = Workbook()\n",
        "sheet = workbook.active\n",
        "\n",
        "# データフレームの内容を書き込み\n",
        "for row in dataframe_to_rows(df_grouped, index=False, header=True):\n",
        "    sheet.append(row)\n",
        "\n",
        "# ヘッダー部分の書式を変更（薄いグレー）\n",
        "header_cells = sheet[1]\n",
        "grey_fill = PatternFill(patternType='solid', fgColor='F2F2F2')\n",
        "for cell in header_cells:\n",
        "    cell.fill = grey_fill\n",
        "\n",
        "# Excelファイルを保存\n",
        "workbook.save(excel_file)"
      ]
    }
  ]
}